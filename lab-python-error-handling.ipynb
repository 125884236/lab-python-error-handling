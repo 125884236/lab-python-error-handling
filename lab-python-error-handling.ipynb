{
 "cells": [
  {
   "cell_type": "markdown",
   "id": "25d7736c-ba17-4aff-b6bb-66eba20fbf4e",
   "metadata": {},
   "source": [
    "# Lab | Error Handling"
   ]
  },
  {
   "cell_type": "markdown",
   "id": "bc99b386-7508-47a0-bcdb-d969deaf6c8b",
   "metadata": {},
   "source": [
    "## Exercise: Error Handling for Managing Customer Orders\n",
    "\n",
    "The implementation of your code for managing customer orders assumes that the user will always enter a valid input. \n",
    "\n",
    "For example, we could modify the `initialize_inventory` function to include error handling.\n",
    "   - If the user enters an invalid quantity (e.g., a negative value or a non-numeric value), display an error message and ask them to re-enter the quantity for that product.\n",
    "   - Use a try-except block to handle the error and continue prompting the user until a valid quantity is entered.\n",
    "\n",
    "```python\n",
    "# Step 1: Define the function for initializing the inventory with error handling\n",
    "def initialize_inventory(products):\n",
    "    inventory = {}\n",
    "    for product in products:\n",
    "        valid_quantity = False\n",
    "        while not valid_quantity:\n",
    "            try:\n",
    "                quantity = int(input(f\"Enter the quantity of {product}s available: \"))\n",
    "                if quantity < 0:\n",
    "                    raise ValueError(\"Invalid quantity! Please enter a non-negative value.\")\n",
    "                valid_quantity = True\n",
    "            except ValueError as error:\n",
    "                print(f\"Error: {error}\")\n",
    "        inventory[product] = quantity\n",
    "    return inventory\n",
    "\n",
    "# Or, in another way:\n",
    "\n",
    "def initialize_inventory(products):\n",
    "    inventory = {}\n",
    "    for product in products:\n",
    "        valid_input = False\n",
    "        while not valid_input:\n",
    "            try:\n",
    "                quantity = int(input(f\"Enter the quantity of {product}s available: \"))\n",
    "                if quantity >= 0:\n",
    "                    inventory[product] = quantity\n",
    "                    valid_input = True\n",
    "                else:\n",
    "                    print(\"Quantity cannot be negative. Please enter a valid quantity.\")\n",
    "            except ValueError:\n",
    "                print(\"Invalid input. Please enter a valid quantity.\")\n",
    "    return inventory\n",
    "```\n",
    "\n",
    "Let's enhance your code by implementing error handling to handle invalid inputs.\n",
    "\n",
    "Follow the steps below to complete the exercise:\n",
    "\n",
    "2. Modify the `calculate_total_price` function to include error handling.\n",
    "   - If the user enters an invalid price (e.g., a negative value or a non-numeric value), display an error message and ask them to re-enter the price for that product.\n",
    "   - Use a try-except block to handle the error and continue prompting the user until a valid price is entered.\n",
    "\n",
    "3. Modify the `get_customer_orders` function to include error handling.\n",
    "   - If the user enters an invalid number of orders (e.g., a negative value or a non-numeric value), display an error message and ask them to re-enter the number of orders.\n",
    "   - If the user enters an invalid product name (e.g., a product name that is not in the inventory), or that doesn't have stock available, display an error message and ask them to re-enter the product name. *Hint: you will need to pass inventory as a parameter*\n",
    "   - Use a try-except block to handle the error and continue prompting the user until a valid product name is entered.\n",
    "\n",
    "4. Test your code by running the program and deliberately entering invalid quantities and product names. Make sure the error handling mechanism works as expected.\n"
   ]
  },
  {
   "cell_type": "code",
   "execution_count": 1,
   "id": "1b5178eb",
   "metadata": {},
   "outputs": [],
   "source": [
    "products = [\"t-shirt\", \"mug\", \"hat\", \"book\", \"keychain\"]\n",
    "\n",
    "def initialize_inventory(products):\n",
    "    inventory = {}\n",
    "    #pedir al usuario que actualice el stock de los productos y actualiza el diccionario inventario.\n",
    "    for item in products:\n",
    "        valid_quantity = False\n",
    "        while not valid_quantity:\n",
    "            try:\n",
    "                stock = int(input(f\"Please, enter the quantity of {item} that are in stock: \").strip())\n",
    "                if stock < 0:\n",
    "                    raise ValueError(\"Invalid quantity! Please enter a non-negative value.\")\n",
    "                valid_quantity = True\n",
    "            except ValueError as error:\n",
    "                print(f\"Error: {error}\")\n",
    "        inventory[item] = stock\n",
    "    return inventory"
   ]
  },
  {
   "cell_type": "code",
   "execution_count": 22,
   "id": "7406c9b2",
   "metadata": {},
   "outputs": [],
   "source": [
    "def get_customer_orders(inventory):\n",
    "    customer_orders = set()\n",
    "    valid_input_1 = False\n",
    "    while not valid_input_1: \n",
    "        try:\n",
    "            user_input_1 = int(input(\"How many products would you like to order?\").strip())\n",
    "            if int(user_input_1) <= 0:\n",
    "                raise ValueError(\"Invalid input. Try again!\")\n",
    "            else:\n",
    "                valid_input_1 = True\n",
    "        except ValueError as error:\n",
    "            print(f\"Error: {error}\")\n",
    "    \n",
    "    \n",
    "    for i in range(int(user_input_1)):\n",
    "        valid_input_2 = False\n",
    "        while not valid_input_2:\n",
    "            try:\n",
    "                user_input_2 = input(\"Type the product that you would like to order: \").lower().strip()\n",
    "                for item, stock in inventory.items():\n",
    "                    if item == user_input_2 and stock == 0:\n",
    "                        raise TypeError(\"Sorry, we don't have stock of this product.\")\n",
    "                    elif user_input_2 not in inventory:\n",
    "                        raise TypeError(\"Sorry, this product is not in the inventory.\")\n",
    "                    else:\n",
    "                        valid_input_2 = True\n",
    "            except ValueError as error:\n",
    "                print(f\"Error: {error}\")\n",
    "            except:\n",
    "                print(f\"Invalid input.\")\n",
    "        customer_orders.add(user_input_2)\n",
    "    \n",
    "    return customer_orders"
   ]
  },
  {
   "cell_type": "code",
   "execution_count": 14,
   "id": "99f56316",
   "metadata": {},
   "outputs": [],
   "source": [
    "def calculate_total_price(customer_orders):\n",
    "\n",
    "    #crea el diccionario en el que se guardarán los precios asociados a los productos pedidos\n",
    "    inventory_with_prices = {}\n",
    "\n",
    "    #revisa los productos pedidos para solicitar su precio\n",
    "    for item in customer_orders:\n",
    "        valid_price = False\n",
    "        #pide que introduzcas un valor distinto hasta que sea correcto\n",
    "        while not valid_price:\n",
    "            try:\n",
    "                price = int(input(f\"Please, enter the price of the {item} that you would like to purchase: \").strip())\n",
    "                if price <= 0:\n",
    "                    raise ValueError(\"Invalid input. Please try again.\")\n",
    "                valid_price = True\n",
    "            except ValueError as error:\n",
    "                print(f\"Error: {error}\")\n",
    "        #añade los precios al diccionario inventory_with_prices\n",
    "        inventory_with_prices[item] = price\n",
    "    \n",
    "    #imprime el precio por producto\n",
    "    for item, price in inventory_with_prices.items():\n",
    "        print(f\"{item}: {price}\")"
   ]
  },
  {
   "cell_type": "code",
   "execution_count": 4,
   "id": "b5d765f0",
   "metadata": {},
   "outputs": [],
   "source": [
    "def update_inventory(customer_orders, inventory):\n",
    "    inventory = {product: stock - 1 if product in customer_orders else stock for product, stock in inventory.items()}\n",
    "    inventory = {product: stock for product, stock in inventory.items() if stock > 0}\n",
    "    return inventory"
   ]
  },
  {
   "cell_type": "code",
   "execution_count": 5,
   "id": "1fc461a5",
   "metadata": {},
   "outputs": [],
   "source": [
    "def print_order_statistics(customer_orders, products):\n",
    "    percentage_ordered = (len(customer_orders) / len(inventory)) * 100\n",
    "    print(f\"\"\"Order Statistics:\n",
    "    Total Products Ordered: {len(customer_orders)}\n",
    "    Percentage of Products Ordered: {percentage_ordered}%\"\"\")"
   ]
  },
  {
   "cell_type": "code",
   "execution_count": 6,
   "id": "ddac8c2e",
   "metadata": {},
   "outputs": [],
   "source": [
    "def print_updated_inventory(inventory):\n",
    "    for product, stock in inventory.items():\n",
    "        print(f\"Updated inventory: {stock} {product}\")"
   ]
  },
  {
   "cell_type": "code",
   "execution_count": 7,
   "id": "41ea4a90",
   "metadata": {},
   "outputs": [],
   "source": [
    "products = [\"t-shirt\", \"mug\", \"hat\", \"book\", \"keychain\"]"
   ]
  },
  {
   "cell_type": "code",
   "execution_count": 8,
   "id": "4069efaa",
   "metadata": {},
   "outputs": [
    {
     "name": "stdout",
     "output_type": "stream",
     "text": [
      "{'t-shirt': 4, 'mug': 5, 'hat': 9, 'book': 1, 'keychain': 5}\n"
     ]
    }
   ],
   "source": [
    "#se inicia el inventario\n",
    "inventory = initialize_inventory(products)\n",
    "\n",
    "print(inventory)"
   ]
  },
  {
   "cell_type": "code",
   "execution_count": 11,
   "id": "82a5f1b6",
   "metadata": {},
   "outputs": [
    {
     "name": "stdout",
     "output_type": "stream",
     "text": [
      "Invalid input.\n",
      "Invalid input.\n",
      "Your order:  {'mug', 'hat'}\n"
     ]
    }
   ],
   "source": [
    "#Obtener pedidos de clientes\n",
    "customer_orders = get_customer_orders(inventory)\n",
    "print(\"Your order: \",customer_orders)"
   ]
  },
  {
   "cell_type": "code",
   "execution_count": 17,
   "id": "e56170e0",
   "metadata": {},
   "outputs": [
    {
     "name": "stdout",
     "output_type": "stream",
     "text": [
      "mug: 5\n",
      "hat: 10\n",
      "None\n"
     ]
    }
   ],
   "source": [
    "total_price = calculate_total_price(customer_orders)\n",
    "print(total_price)"
   ]
  },
  {
   "cell_type": "code",
   "execution_count": 18,
   "id": "0bda8f18",
   "metadata": {},
   "outputs": [],
   "source": [
    "#Actualizar el inventario\n",
    "inventory = update_inventory(customer_orders, inventory)"
   ]
  },
  {
   "cell_type": "code",
   "execution_count": 19,
   "id": "66f964cb",
   "metadata": {},
   "outputs": [
    {
     "name": "stdout",
     "output_type": "stream",
     "text": [
      "Order Statistics:\n",
      "    Total Products Ordered: 2\n",
      "    Percentage of Products Ordered: 40.0%\n"
     ]
    }
   ],
   "source": [
    "#Calcular estadísticas del pedido\n",
    "print_order_statistics(customer_orders, products)"
   ]
  },
  {
   "cell_type": "code",
   "execution_count": 20,
   "id": "e4ff8632",
   "metadata": {},
   "outputs": [
    {
     "name": "stdout",
     "output_type": "stream",
     "text": [
      "Updated inventory: 4 t-shirt\n",
      "Updated inventory: 4 mug\n",
      "Updated inventory: 8 hat\n",
      "Updated inventory: 1 book\n",
      "Updated inventory: 5 keychain\n"
     ]
    }
   ],
   "source": [
    "#Imprimir el inventario actualizado\n",
    "print_updated_inventory(inventory)"
   ]
  }
 ],
 "metadata": {
  "kernelspec": {
   "display_name": "Python 3 (ipykernel)",
   "language": "python",
   "name": "python3"
  },
  "language_info": {
   "codemirror_mode": {
    "name": "ipython",
    "version": 3
   },
   "file_extension": ".py",
   "mimetype": "text/x-python",
   "name": "python",
   "nbconvert_exporter": "python",
   "pygments_lexer": "ipython3",
   "version": "3.11.5"
  }
 },
 "nbformat": 4,
 "nbformat_minor": 5
}
